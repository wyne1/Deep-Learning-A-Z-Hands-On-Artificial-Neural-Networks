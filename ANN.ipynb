{
 "cells": [
  {
   "cell_type": "code",
   "execution_count": 1,
   "metadata": {},
   "outputs": [],
   "source": [
    "import numpy as np\n",
    "import matplotlib.pyplot as plt\n",
    "import pandas as pd"
   ]
  },
  {
   "cell_type": "markdown",
   "metadata": {},
   "source": [
    "## Data Preprocessing"
   ]
  },
  {
   "cell_type": "code",
   "execution_count": 4,
   "metadata": {},
   "outputs": [
    {
     "data": {
      "text/html": [
       "<div>\n",
       "<style scoped>\n",
       "    .dataframe tbody tr th:only-of-type {\n",
       "        vertical-align: middle;\n",
       "    }\n",
       "\n",
       "    .dataframe tbody tr th {\n",
       "        vertical-align: top;\n",
       "    }\n",
       "\n",
       "    .dataframe thead th {\n",
       "        text-align: right;\n",
       "    }\n",
       "</style>\n",
       "<table border=\"1\" class=\"dataframe\">\n",
       "  <thead>\n",
       "    <tr style=\"text-align: right;\">\n",
       "      <th></th>\n",
       "      <th>RowNumber</th>\n",
       "      <th>CustomerId</th>\n",
       "      <th>Surname</th>\n",
       "      <th>CreditScore</th>\n",
       "      <th>Geography</th>\n",
       "      <th>Gender</th>\n",
       "      <th>Age</th>\n",
       "      <th>Tenure</th>\n",
       "      <th>Balance</th>\n",
       "      <th>NumOfProducts</th>\n",
       "      <th>HasCrCard</th>\n",
       "      <th>IsActiveMember</th>\n",
       "      <th>EstimatedSalary</th>\n",
       "      <th>Exited</th>\n",
       "    </tr>\n",
       "  </thead>\n",
       "  <tbody>\n",
       "    <tr>\n",
       "      <th>0</th>\n",
       "      <td>1</td>\n",
       "      <td>15634602</td>\n",
       "      <td>Hargrave</td>\n",
       "      <td>619</td>\n",
       "      <td>France</td>\n",
       "      <td>Female</td>\n",
       "      <td>42</td>\n",
       "      <td>2</td>\n",
       "      <td>0.00</td>\n",
       "      <td>1</td>\n",
       "      <td>1</td>\n",
       "      <td>1</td>\n",
       "      <td>101348.88</td>\n",
       "      <td>1</td>\n",
       "    </tr>\n",
       "    <tr>\n",
       "      <th>1</th>\n",
       "      <td>2</td>\n",
       "      <td>15647311</td>\n",
       "      <td>Hill</td>\n",
       "      <td>608</td>\n",
       "      <td>Spain</td>\n",
       "      <td>Female</td>\n",
       "      <td>41</td>\n",
       "      <td>1</td>\n",
       "      <td>83807.86</td>\n",
       "      <td>1</td>\n",
       "      <td>0</td>\n",
       "      <td>1</td>\n",
       "      <td>112542.58</td>\n",
       "      <td>0</td>\n",
       "    </tr>\n",
       "    <tr>\n",
       "      <th>2</th>\n",
       "      <td>3</td>\n",
       "      <td>15619304</td>\n",
       "      <td>Onio</td>\n",
       "      <td>502</td>\n",
       "      <td>France</td>\n",
       "      <td>Female</td>\n",
       "      <td>42</td>\n",
       "      <td>8</td>\n",
       "      <td>159660.80</td>\n",
       "      <td>3</td>\n",
       "      <td>1</td>\n",
       "      <td>0</td>\n",
       "      <td>113931.57</td>\n",
       "      <td>1</td>\n",
       "    </tr>\n",
       "    <tr>\n",
       "      <th>3</th>\n",
       "      <td>4</td>\n",
       "      <td>15701354</td>\n",
       "      <td>Boni</td>\n",
       "      <td>699</td>\n",
       "      <td>France</td>\n",
       "      <td>Female</td>\n",
       "      <td>39</td>\n",
       "      <td>1</td>\n",
       "      <td>0.00</td>\n",
       "      <td>2</td>\n",
       "      <td>0</td>\n",
       "      <td>0</td>\n",
       "      <td>93826.63</td>\n",
       "      <td>0</td>\n",
       "    </tr>\n",
       "    <tr>\n",
       "      <th>4</th>\n",
       "      <td>5</td>\n",
       "      <td>15737888</td>\n",
       "      <td>Mitchell</td>\n",
       "      <td>850</td>\n",
       "      <td>Spain</td>\n",
       "      <td>Female</td>\n",
       "      <td>43</td>\n",
       "      <td>2</td>\n",
       "      <td>125510.82</td>\n",
       "      <td>1</td>\n",
       "      <td>1</td>\n",
       "      <td>1</td>\n",
       "      <td>79084.10</td>\n",
       "      <td>0</td>\n",
       "    </tr>\n",
       "  </tbody>\n",
       "</table>\n",
       "</div>"
      ],
      "text/plain": [
       "   RowNumber  CustomerId   Surname  CreditScore Geography  Gender  Age  \\\n",
       "0          1    15634602  Hargrave          619    France  Female   42   \n",
       "1          2    15647311      Hill          608     Spain  Female   41   \n",
       "2          3    15619304      Onio          502    France  Female   42   \n",
       "3          4    15701354      Boni          699    France  Female   39   \n",
       "4          5    15737888  Mitchell          850     Spain  Female   43   \n",
       "\n",
       "   Tenure    Balance  NumOfProducts  HasCrCard  IsActiveMember  \\\n",
       "0       2       0.00              1          1               1   \n",
       "1       1   83807.86              1          0               1   \n",
       "2       8  159660.80              3          1               0   \n",
       "3       1       0.00              2          0               0   \n",
       "4       2  125510.82              1          1               1   \n",
       "\n",
       "   EstimatedSalary  Exited  \n",
       "0        101348.88       1  \n",
       "1        112542.58       0  \n",
       "2        113931.57       1  \n",
       "3         93826.63       0  \n",
       "4         79084.10       0  "
      ]
     },
     "execution_count": 4,
     "metadata": {},
     "output_type": "execute_result"
    }
   ],
   "source": [
    "dataset = pd.read_csv('Churn_Modelling.csv')\n",
    "X = dataset.iloc[:, 3:13].values\n",
    "y = dataset.iloc[:, 13].values\n",
    "\n",
    "dataset.head()"
   ]
  },
  {
   "cell_type": "code",
   "execution_count": 6,
   "metadata": {},
   "outputs": [
    {
     "data": {
      "text/plain": [
       "array([[619, 'France', 'Female', ..., 1, 1, 101348.88],\n",
       "       [608, 'Spain', 'Female', ..., 0, 1, 112542.58],\n",
       "       [502, 'France', 'Female', ..., 1, 0, 113931.57],\n",
       "       ...,\n",
       "       [709, 'France', 'Female', ..., 0, 1, 42085.58],\n",
       "       [772, 'Germany', 'Male', ..., 1, 0, 92888.52],\n",
       "       [792, 'France', 'Female', ..., 1, 0, 38190.78]], dtype=object)"
      ]
     },
     "execution_count": 6,
     "metadata": {},
     "output_type": "execute_result"
    }
   ],
   "source": [
    "X"
   ]
  },
  {
   "cell_type": "markdown",
   "metadata": {},
   "source": [
    "#### Encoding Categorical Data"
   ]
  },
  {
   "cell_type": "code",
   "execution_count": 7,
   "metadata": {},
   "outputs": [
    {
     "name": "stderr",
     "output_type": "stream",
     "text": [
      "/Users/zeerakwyne/pythonVirtualEnvironments/deepLearning/lib/python3.6/site-packages/sklearn/preprocessing/_encoders.py:363: FutureWarning: The handling of integer data will change in version 0.22. Currently, the categories are determined based on the range [0, max(values)], while in the future they will be determined based on the unique values.\n",
      "If you want the future behaviour and silence this warning, you can specify \"categories='auto'\".\n",
      "In case you used a LabelEncoder before this OneHotEncoder to convert the categories to integers, then you can now use the OneHotEncoder directly.\n",
      "  warnings.warn(msg, FutureWarning)\n",
      "/Users/zeerakwyne/pythonVirtualEnvironments/deepLearning/lib/python3.6/site-packages/sklearn/preprocessing/_encoders.py:385: DeprecationWarning: The 'categorical_features' keyword is deprecated in version 0.20 and will be removed in 0.22. You can use the ColumnTransformer instead.\n",
      "  \"use the ColumnTransformer instead.\", DeprecationWarning)\n"
     ]
    }
   ],
   "source": [
    "# Encoding categorical data\n",
    "from sklearn.preprocessing import LabelEncoder, OneHotEncoder\n",
    "\n",
    "\n",
    "labelencoder_X_1 = LabelEncoder()\n",
    "X[:, 1] = labelencoder_X_1.fit_transform(X[:, 1])\n",
    "labelencoder_X_2 = LabelEncoder()\n",
    "X[:, 2] = labelencoder_X_2.fit_transform(X[:, 2])\n",
    "onehotencoder = OneHotEncoder(categorical_features = [1])\n",
    "X = onehotencoder.fit_transform(X).toarray()\n",
    "X = X[:, 1:]"
   ]
  },
  {
   "cell_type": "code",
   "execution_count": 8,
   "metadata": {},
   "outputs": [],
   "source": [
    "from sklearn.model_selection import train_test_split\n",
    "X_train, X_test, y_train, y_test = train_test_split(X, y, test_size = 0.2, random_state = 0)"
   ]
  },
  {
   "cell_type": "code",
   "execution_count": 9,
   "metadata": {},
   "outputs": [],
   "source": [
    "# Feature Scaling\n",
    "from sklearn.preprocessing import StandardScaler\n",
    "sc = StandardScaler()\n",
    "X_train = sc.fit_transform(X_train)\n",
    "X_test = sc.transform(X_test)"
   ]
  },
  {
   "cell_type": "code",
   "execution_count": 10,
   "metadata": {},
   "outputs": [
    {
     "name": "stderr",
     "output_type": "stream",
     "text": [
      "Using TensorFlow backend.\n"
     ]
    }
   ],
   "source": [
    "# Importing the Keras libraries and packages\n",
    "import keras\n",
    "from keras.models import Sequential\n",
    "from keras.layers import Dense"
   ]
  },
  {
   "cell_type": "code",
   "execution_count": 39,
   "metadata": {},
   "outputs": [],
   "source": [
    "# Initialising the ANN\n",
    "classifier = Sequential()\n",
    "# Adding the input layer and the first hidden layer\n",
    "classifier.add(Dense(units = 6, kernel_initializer = 'uniform', activation = 'relu', input_dim = 11))\n",
    "# Adding the second hidden layer\n",
    "classifier.add(Dense(units = 6, kernel_initializer = 'uniform', activation = 'relu'))\n",
    "# Adding the output layer\n",
    "classifier.add(Dense(units = 1, kernel_initializer = 'uniform', activation = 'sigmoid'))"
   ]
  },
  {
   "cell_type": "code",
   "execution_count": 40,
   "metadata": {},
   "outputs": [],
   "source": [
    "# Compiling the ANN\n",
    "classifier.compile(optimizer = 'adam', loss = 'binary_crossentropy', metrics = ['accuracy'])"
   ]
  },
  {
   "cell_type": "code",
   "execution_count": 46,
   "metadata": {
    "scrolled": true
   },
   "outputs": [
    {
     "name": "stdout",
     "output_type": "stream",
     "text": [
      "Epoch 1/50\n",
      "8000/8000 [==============================] - 1s 97us/step - loss: 0.3979 - acc: 0.8345\n",
      "Epoch 2/50\n",
      "8000/8000 [==============================] - 1s 95us/step - loss: 0.3977 - acc: 0.8354\n",
      "Epoch 3/50\n",
      "8000/8000 [==============================] - 1s 94us/step - loss: 0.3980 - acc: 0.8347\n",
      "Epoch 4/50\n",
      "8000/8000 [==============================] - 1s 93us/step - loss: 0.3980 - acc: 0.8355\n",
      "Epoch 5/50\n",
      "8000/8000 [==============================] - 1s 93us/step - loss: 0.3984 - acc: 0.8376\n",
      "Epoch 6/50\n",
      "8000/8000 [==============================] - 1s 93us/step - loss: 0.3987 - acc: 0.8364\n",
      "Epoch 7/50\n",
      "8000/8000 [==============================] - 1s 93us/step - loss: 0.3981 - acc: 0.8360\n",
      "Epoch 8/50\n",
      "8000/8000 [==============================] - 1s 93us/step - loss: 0.3987 - acc: 0.8365\n",
      "Epoch 9/50\n",
      "8000/8000 [==============================] - 1s 93us/step - loss: 0.3985 - acc: 0.8369\n",
      "Epoch 10/50\n",
      "8000/8000 [==============================] - 1s 93us/step - loss: 0.3983 - acc: 0.8355\n",
      "Epoch 11/50\n",
      "8000/8000 [==============================] - 1s 94us/step - loss: 0.3984 - acc: 0.8367\n",
      "Epoch 12/50\n",
      "8000/8000 [==============================] - 1s 93us/step - loss: 0.3982 - acc: 0.8369\n",
      "Epoch 13/50\n",
      "8000/8000 [==============================] - 1s 93us/step - loss: 0.3983 - acc: 0.8360\n",
      "Epoch 14/50\n",
      "8000/8000 [==============================] - 1s 96us/step - loss: 0.3986 - acc: 0.8374\n",
      "Epoch 15/50\n",
      "8000/8000 [==============================] - 1s 94us/step - loss: 0.3985 - acc: 0.8359\n",
      "Epoch 16/50\n",
      "8000/8000 [==============================] - 1s 93us/step - loss: 0.3983 - acc: 0.8369\n",
      "Epoch 17/50\n",
      "8000/8000 [==============================] - 1s 94us/step - loss: 0.3983 - acc: 0.8354\n",
      "Epoch 18/50\n",
      "8000/8000 [==============================] - 1s 93us/step - loss: 0.3984 - acc: 0.8359\n",
      "Epoch 19/50\n",
      "8000/8000 [==============================] - 1s 106us/step - loss: 0.3986 - acc: 0.8354\n",
      "Epoch 20/50\n",
      "8000/8000 [==============================] - 1s 93us/step - loss: 0.3985 - acc: 0.8356\n",
      "Epoch 21/50\n",
      "8000/8000 [==============================] - 1s 94us/step - loss: 0.3987 - acc: 0.8359\n",
      "Epoch 22/50\n",
      "8000/8000 [==============================] - 1s 102us/step - loss: 0.3985 - acc: 0.8357\n",
      "Epoch 23/50\n",
      "8000/8000 [==============================] - 1s 108us/step - loss: 0.3985 - acc: 0.8369\n",
      "Epoch 24/50\n",
      "8000/8000 [==============================] - 1s 104us/step - loss: 0.3985 - acc: 0.8361\n",
      "Epoch 25/50\n",
      "8000/8000 [==============================] - 1s 111us/step - loss: 0.3983 - acc: 0.8357\n",
      "Epoch 26/50\n",
      "8000/8000 [==============================] - 1s 98us/step - loss: 0.3983 - acc: 0.8357\n",
      "Epoch 27/50\n",
      "8000/8000 [==============================] - 1s 106us/step - loss: 0.3982 - acc: 0.8376\n",
      "Epoch 28/50\n",
      "8000/8000 [==============================] - 1s 108us/step - loss: 0.3983 - acc: 0.8362\n",
      "Epoch 29/50\n",
      "8000/8000 [==============================] - 1s 101us/step - loss: 0.3982 - acc: 0.8360\n",
      "Epoch 30/50\n",
      "8000/8000 [==============================] - 1s 113us/step - loss: 0.3984 - acc: 0.8366\n",
      "Epoch 31/50\n",
      "8000/8000 [==============================] - 1s 104us/step - loss: 0.3984 - acc: 0.8369\n",
      "Epoch 32/50\n",
      "8000/8000 [==============================] - 1s 95us/step - loss: 0.3982 - acc: 0.8352\n",
      "Epoch 33/50\n",
      "8000/8000 [==============================] - 1s 94us/step - loss: 0.3986 - acc: 0.8369\n",
      "Epoch 34/50\n",
      "8000/8000 [==============================] - 1s 96us/step - loss: 0.3980 - acc: 0.8366\n",
      "Epoch 35/50\n",
      "8000/8000 [==============================] - 1s 103us/step - loss: 0.3983 - acc: 0.8374\n",
      "Epoch 36/50\n",
      "8000/8000 [==============================] - 1s 106us/step - loss: 0.3983 - acc: 0.8360\n",
      "Epoch 37/50\n",
      "8000/8000 [==============================] - 1s 106us/step - loss: 0.3983 - acc: 0.8357\n",
      "Epoch 38/50\n",
      "8000/8000 [==============================] - 1s 93us/step - loss: 0.3984 - acc: 0.8360\n",
      "Epoch 39/50\n",
      "8000/8000 [==============================] - 1s 99us/step - loss: 0.3984 - acc: 0.8362\n",
      "Epoch 40/50\n",
      "8000/8000 [==============================] - 1s 100us/step - loss: 0.3983 - acc: 0.8357\n",
      "Epoch 41/50\n",
      "8000/8000 [==============================] - 1s 97us/step - loss: 0.3985 - acc: 0.8352\n",
      "Epoch 42/50\n",
      "8000/8000 [==============================] - 1s 101us/step - loss: 0.3981 - acc: 0.8355\n",
      "Epoch 43/50\n",
      "8000/8000 [==============================] - 1s 102us/step - loss: 0.3986 - acc: 0.8355\n",
      "Epoch 44/50\n",
      "8000/8000 [==============================] - 1s 100us/step - loss: 0.3982 - acc: 0.8360\n",
      "Epoch 45/50\n",
      "8000/8000 [==============================] - 1s 96us/step - loss: 0.3984 - acc: 0.8365\n",
      "Epoch 46/50\n",
      "8000/8000 [==============================] - 1s 106us/step - loss: 0.3983 - acc: 0.8347\n",
      "Epoch 47/50\n",
      "8000/8000 [==============================] - 1s 96us/step - loss: 0.3981 - acc: 0.8372\n",
      "Epoch 48/50\n",
      "8000/8000 [==============================] - 1s 100us/step - loss: 0.3984 - acc: 0.8361\n",
      "Epoch 49/50\n",
      "8000/8000 [==============================] - 1s 103us/step - loss: 0.3982 - acc: 0.8362\n",
      "Epoch 50/50\n",
      "8000/8000 [==============================] - 1s 102us/step - loss: 0.3985 - acc: 0.8355\n"
     ]
    },
    {
     "data": {
      "text/plain": [
       "<keras.callbacks.History at 0x12fd10390>"
      ]
     },
     "execution_count": 46,
     "metadata": {},
     "output_type": "execute_result"
    }
   ],
   "source": [
    "# Fitting the ANN to the Training set\n",
    "classifier.fit(X_train, y_train, batch_size = 10, epochs = 50)"
   ]
  },
  {
   "cell_type": "code",
   "execution_count": 50,
   "metadata": {},
   "outputs": [],
   "source": [
    "y_pred = classifier.predict(X_test)\n",
    "y_pred1 = (y_pred1 > 0.5)"
   ]
  },
  {
   "cell_type": "code",
   "execution_count": 1,
   "metadata": {},
   "outputs": [
    {
     "ename": "NameError",
     "evalue": "name 'y_test' is not defined",
     "output_type": "error",
     "traceback": [
      "\u001b[0;31m---------------------------------------------------------------------------\u001b[0m",
      "\u001b[0;31mNameError\u001b[0m                                 Traceback (most recent call last)",
      "\u001b[0;32m<ipython-input-1-919f34766dbb>\u001b[0m in \u001b[0;36m<module>\u001b[0;34m\u001b[0m\n\u001b[1;32m      1\u001b[0m \u001b[0;31m# Making the Confusion Matrix\u001b[0m\u001b[0;34m\u001b[0m\u001b[0;34m\u001b[0m\u001b[0m\n\u001b[1;32m      2\u001b[0m \u001b[0;32mfrom\u001b[0m \u001b[0msklearn\u001b[0m\u001b[0;34m.\u001b[0m\u001b[0mmetrics\u001b[0m \u001b[0;32mimport\u001b[0m \u001b[0mconfusion_matrix\u001b[0m\u001b[0;34m\u001b[0m\u001b[0m\n\u001b[0;32m----> 3\u001b[0;31m \u001b[0mcm2\u001b[0m \u001b[0;34m=\u001b[0m \u001b[0mconfusion_matrix\u001b[0m\u001b[0;34m(\u001b[0m\u001b[0my_test\u001b[0m\u001b[0;34m,\u001b[0m \u001b[0my_pred2\u001b[0m\u001b[0;34m)\u001b[0m\u001b[0;34m\u001b[0m\u001b[0m\n\u001b[0m\u001b[1;32m      4\u001b[0m \u001b[0mcm2\u001b[0m\u001b[0;34m\u001b[0m\u001b[0m\n",
      "\u001b[0;31mNameError\u001b[0m: name 'y_test' is not defined"
     ]
    }
   ],
   "source": [
    "# Making the Confusion Matrix\n",
    "from sklearn.metrics import confusion_matrix\n",
    "cm2 = confusion_matrix(y_test, y_pred2)\n",
    "cm2"
   ]
  },
  {
   "cell_type": "code",
   "execution_count": 54,
   "metadata": {},
   "outputs": [
    {
     "data": {
      "text/plain": [
       "84.3"
      ]
     },
     "execution_count": 54,
     "metadata": {},
     "output_type": "execute_result"
    }
   ],
   "source": [
    "(1539+147)/2000 * 100"
   ]
  },
  {
   "cell_type": "code",
   "execution_count": 55,
   "metadata": {},
   "outputs": [],
   "source": [
    "#For single observation\n",
    "new_prediction = classifier.predict(sc.transform(np.array([[0.0, 0, 600, 1, 40, 3, 60000, 2, 1, 1, 50000]])))\n",
    "new_prediction = (new_prediction > 0.5)"
   ]
  },
  {
   "cell_type": "code",
   "execution_count": 56,
   "metadata": {},
   "outputs": [
    {
     "data": {
      "text/plain": [
       "array([[False]])"
      ]
     },
     "execution_count": 56,
     "metadata": {},
     "output_type": "execute_result"
    }
   ],
   "source": [
    "new_prediction"
   ]
  }
 ],
 "metadata": {
  "kernelspec": {
   "display_name": "deepLearning",
   "language": "python",
   "name": "deeplearning"
  },
  "language_info": {
   "codemirror_mode": {
    "name": "ipython",
    "version": 3
   },
   "file_extension": ".py",
   "mimetype": "text/x-python",
   "name": "python",
   "nbconvert_exporter": "python",
   "pygments_lexer": "ipython3",
   "version": "3.6.0"
  }
 },
 "nbformat": 4,
 "nbformat_minor": 2
}
